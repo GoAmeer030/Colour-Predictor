{
 "cells": [
  {
   "cell_type": "code",
   "execution_count": null,
   "metadata": {},
   "outputs": [],
   "source": [
    "import pandas as pd\n",
    "import numpy as np"
   ]
  },
  {
   "cell_type": "code",
   "execution_count": null,
   "metadata": {},
   "outputs": [],
   "source": [
    "data = pd.read_csv('data.csv')\n",
    "\n",
    "data.drop_duplicates(inplace=True)\n",
    "data.sort_values(by=['period'], inplace=True, ascending=False)\n",
    "\n",
    "data.to_csv('data.csv', index=False)\n",
    "data.head()"
   ]
  },
  {
   "cell_type": "code",
   "execution_count": null,
   "metadata": {},
   "outputs": [],
   "source": [
    "data.drop(\"price\", axis=1, inplace=True)\n",
    "\n",
    "data['count_of_the_day'] = data['period'].apply(lambda x: int(str(x)[8:]))\n",
    "\n",
    "data['period'] = data['period'].apply(lambda x: int(str(x)[0:8]))\n",
    "\n",
    "data.head()"
   ]
  },
  {
   "cell_type": "code",
   "execution_count": null,
   "metadata": {},
   "outputs": [],
   "source": [
    "data['target_colour'] = data['target_colour'] - 1\n",
    "\n",
    "data.head()"
   ]
  },
  {
   "cell_type": "code",
   "execution_count": null,
   "metadata": {},
   "outputs": [],
   "source": [
    "def previous_counts(row, df):\n",
    "    period = row['period']\n",
    "    count_of_the_day = row['count_of_the_day']\n",
    "    same_day_records = df[(df['period'] == period) & (df['count_of_the_day'] < count_of_the_day)]\n",
    "    if same_day_records.empty:\n",
    "        return pd.Series({'previous_50_numbers': [], 'previous_50_colours': []})\n",
    "    lower_limit = max(count_of_the_day - 50, same_day_records['count_of_the_day'].min())\n",
    "    prev_records = same_day_records[same_day_records['count_of_the_day'].between(lower_limit, count_of_the_day - 1)]\n",
    "    return pd.Series({'previous_50_numbers': prev_records['target_number'].values, 'previous_50_colours': prev_records['target_colour'].values})\n",
    "\n",
    "data[['previous_50_numbers', 'previous_50_colours']] = data.apply(previous_counts, axis=1, args=(data,))\n",
    "    \n",
    "data.head()"
   ]
  },
  {
   "cell_type": "code",
   "execution_count": null,
   "metadata": {},
   "outputs": [],
   "source": [
    "data['region'] = data.apply(lambda x: (x['target_number'], x['target_colour']), axis=1)\n",
    "data.head()"
   ]
  },
  {
   "cell_type": "code",
   "execution_count": null,
   "metadata": {},
   "outputs": [],
   "source": [
    "from sklearn.model_selection import train_test_split\n",
    "from sklearn.neighbors import KNeighborsClassifier  "
   ]
  },
  {
   "cell_type": "code",
   "execution_count": null,
   "metadata": {},
   "outputs": [],
   "source": [
    "X = data[['count_of_the_day']]\n",
    "# y = data['region']\n",
    "y = data['target_colour']"
   ]
  },
  {
   "cell_type": "code",
   "execution_count": null,
   "metadata": {},
   "outputs": [],
   "source": [
    "X_train, X_test, y_train, y_test = train_test_split(X, y, test_size=0.2, random_state=42)"
   ]
  },
  {
   "cell_type": "code",
   "execution_count": null,
   "metadata": {},
   "outputs": [],
   "source": [
    "k = 50\n",
    "knn = KNeighborsClassifier(n_neighbors=k)"
   ]
  },
  {
   "cell_type": "code",
   "execution_count": null,
   "metadata": {},
   "outputs": [],
   "source": [
    "knn.fit(X_train, y_train)"
   ]
  },
  {
   "cell_type": "code",
   "execution_count": null,
   "metadata": {},
   "outputs": [],
   "source": [
    "accuracy = knn.score(X_test, y_test)\n",
    "print(f\"Accuracy of the k-NN model: {accuracy:.2f}\")"
   ]
  },
  {
   "cell_type": "code",
   "execution_count": null,
   "metadata": {},
   "outputs": [],
   "source": [
    "knn.predict([[195]])"
   ]
  }
 ],
 "metadata": {
  "kernelspec": {
   "display_name": "venv",
   "language": "python",
   "name": "python3"
  },
  "language_info": {
   "codemirror_mode": {
    "name": "ipython",
    "version": 3
   },
   "file_extension": ".py",
   "mimetype": "text/x-python",
   "name": "python",
   "nbconvert_exporter": "python",
   "pygments_lexer": "ipython3",
   "version": "3.11.0"
  }
 },
 "nbformat": 4,
 "nbformat_minor": 2
}
