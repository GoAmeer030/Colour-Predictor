{
 "cells": [
  {
   "cell_type": "code",
   "execution_count": 1,
   "metadata": {
    "id": "Upz_Lj1nOv-m",
    "ExecuteTime": {
     "end_time": "2023-12-13T04:17:10.291696600Z",
     "start_time": "2023-12-13T04:17:10.010967600Z"
    }
   },
   "outputs": [],
   "source": [
    "import pandas as pd"
   ]
  },
  {
   "cell_type": "code",
   "execution_count": 7,
   "metadata": {
    "colab": {
     "base_uri": "https://localhost:8080/",
     "height": 206
    },
    "id": "esVcZjX0Ov-o",
    "outputId": "ffdb5cf1-2f52-4f72-9f15-d85f12ae6e57",
    "ExecuteTime": {
     "end_time": "2023-12-13T04:27:52.090339700Z",
     "start_time": "2023-12-13T04:27:51.742971800Z"
    }
   },
   "outputs": [
    {
     "data": {
      "text/plain": "          period   sn  price  project_id   begintime  target_number  \\\n97053   20231213   86  15191           0  1702421100              1   \n125054  20231213  170  59889           3  1702436220              9   \n125044  20231213  180  59803           3  1702438020              3   \n125045  20231213  179  59821           3  1702437840              1   \n125046  20231213  178  59829           3  1702437660              9   \n\n        target_colour  \n97053               1  \n125054              1  \n125044              1  \n125045              1  \n125046              1  ",
      "text/html": "<div>\n<style scoped>\n    .dataframe tbody tr th:only-of-type {\n        vertical-align: middle;\n    }\n\n    .dataframe tbody tr th {\n        vertical-align: top;\n    }\n\n    .dataframe thead th {\n        text-align: right;\n    }\n</style>\n<table border=\"1\" class=\"dataframe\">\n  <thead>\n    <tr style=\"text-align: right;\">\n      <th></th>\n      <th>period</th>\n      <th>sn</th>\n      <th>price</th>\n      <th>project_id</th>\n      <th>begintime</th>\n      <th>target_number</th>\n      <th>target_colour</th>\n    </tr>\n  </thead>\n  <tbody>\n    <tr>\n      <th>97053</th>\n      <td>20231213</td>\n      <td>86</td>\n      <td>15191</td>\n      <td>0</td>\n      <td>1702421100</td>\n      <td>1</td>\n      <td>1</td>\n    </tr>\n    <tr>\n      <th>125054</th>\n      <td>20231213</td>\n      <td>170</td>\n      <td>59889</td>\n      <td>3</td>\n      <td>1702436220</td>\n      <td>9</td>\n      <td>1</td>\n    </tr>\n    <tr>\n      <th>125044</th>\n      <td>20231213</td>\n      <td>180</td>\n      <td>59803</td>\n      <td>3</td>\n      <td>1702438020</td>\n      <td>3</td>\n      <td>1</td>\n    </tr>\n    <tr>\n      <th>125045</th>\n      <td>20231213</td>\n      <td>179</td>\n      <td>59821</td>\n      <td>3</td>\n      <td>1702437840</td>\n      <td>1</td>\n      <td>1</td>\n    </tr>\n    <tr>\n      <th>125046</th>\n      <td>20231213</td>\n      <td>178</td>\n      <td>59829</td>\n      <td>3</td>\n      <td>1702437660</td>\n      <td>9</td>\n      <td>1</td>\n    </tr>\n  </tbody>\n</table>\n</div>"
     },
     "execution_count": 7,
     "metadata": {},
     "output_type": "execute_result"
    }
   ],
   "source": [
    "data = pd.read_csv('../dataset/raw_data.csv')\n",
    "\n",
    "data.drop_duplicates(inplace=True)\n",
    "data.sort_values(by=['period'], inplace=True, ascending=False)\n",
    "\n",
    "data.to_csv('../dataset/data.csv', index=False)\n",
    "data.head()"
   ]
  },
  {
   "cell_type": "code",
   "execution_count": null,
   "metadata": {
    "colab": {
     "base_uri": "https://localhost:8080/",
     "height": 206
    },
    "id": "QXTY3DHSOv-p",
    "outputId": "50b09777-2ad7-4eef-bb2b-7b2ad8321fe4"
   },
   "outputs": [],
   "source": [
    "data.drop(\"price\", axis=1, inplace=True)\n",
    "\n",
    "data['count_of_the_day'] = data['period'].apply(lambda x: int(str(x)[8:]))\n",
    "\n",
    "data['period'] = data['period'].apply(lambda x: int(str(x)[0:8]))\n",
    "\n",
    "data.head()"
   ]
  },
  {
   "cell_type": "code",
   "execution_count": null,
   "metadata": {
    "id": "hrKpvPFFOv-p"
   },
   "outputs": [],
   "source": [
    "data['target_colour'] = data['target_colour'] - 1\n",
    "\n",
    "data.head()\n",
    "og_data = data.copy()\n"
   ]
  },
  {
   "cell_type": "code",
   "execution_count": null,
   "metadata": {
    "id": "Lg-ZgYLnOv-q"
   },
   "outputs": [],
   "source": [
    "def get_number_colour(val):\n",
    "    colour = val // 10\n",
    "    number = val % 10\n",
    "    return {'colour': 'green' if colour else 'red', 'number': number}"
   ]
  },
  {
   "cell_type": "code",
   "execution_count": null,
   "metadata": {
    "colab": {
     "base_uri": "https://localhost:8080/",
     "height": 206
    },
    "id": "kW33vc08Ov-q",
    "outputId": "e666c58b-1750-43e8-a78f-8b3157b4b661"
   },
   "outputs": [],
   "source": [
    "data['target'] = [int(str(i) + str(j)) for i, j in zip(data['target_colour'], data['target_number'])]\n",
    "\n",
    "data.head()"
   ]
  },
  {
   "cell_type": "code",
   "execution_count": null,
   "metadata": {
    "colab": {
     "base_uri": "https://localhost:8080/",
     "height": 206
    },
    "id": "Dd508tFaOv-q",
    "outputId": "006b25ad-4545-4576-b87a-6f770b388bc9"
   },
   "outputs": [],
   "source": [
    "def previous_counts(row, df):\n",
    "    period = row['period']\n",
    "    count_of_the_day = row['count_of_the_day']\n",
    "    same_day_records = df[(df['period'] == period) & (df['count_of_the_day'] < count_of_the_day)]\n",
    "    if same_day_records.empty:\n",
    "        return pd.Series({'previous_50_numbers': [], 'previous_50_colours': []})\n",
    "    lower_limit = max(count_of_the_day - 50, same_day_records['count_of_the_day'].min())\n",
    "    prev_records = same_day_records[same_day_records['count_of_the_day'].between(lower_limit, count_of_the_day - 1)]\n",
    "    return pd.Series({'previous_50_numbers': prev_records['target_number'].values, 'previous_50_colours': prev_records['target_colour'].values})\n",
    "\n",
    "data[['previous_50_numbers', 'previous_50_colours']] = data.apply(previous_counts, axis=1, args=(data,))\n",
    "\n",
    "data.head()"
   ]
  },
  {
   "cell_type": "code",
   "execution_count": null,
   "metadata": {
    "id": "M3LrfSanOv-q"
   },
   "outputs": [],
   "source": [
    "data.drop(['target_colour', 'target_number'], axis=1, inplace=True)"
   ]
  },
  {
   "cell_type": "code",
   "execution_count": null,
   "metadata": {
    "colab": {
     "base_uri": "https://localhost:8080/",
     "height": 206
    },
    "id": "iqE3NUmLOv-r",
    "outputId": "8a9dbda7-f1f9-42c0-bef0-1a7705c2cd8d"
   },
   "outputs": [],
   "source": [
    "def moving_average(row, df):\n",
    "    period = row['period']\n",
    "    count_of_the_day = row['count_of_the_day']\n",
    "    same_day_records = df[(df['period'] == period) & (df['count_of_the_day'] < count_of_the_day)]\n",
    "    if same_day_records.empty:\n",
    "        return pd.Series({'moving_average': 0})\n",
    "    lower_limit = max(count_of_the_day - 10, same_day_records['count_of_the_day'].min())\n",
    "    prev_records = same_day_records[same_day_records['count_of_the_day'].between(lower_limit, count_of_the_day - 1)]\n",
    "    return pd.Series({'moving_average': prev_records['target'].mean()})\n",
    "\n",
    "data[['moving_average']] = data.apply(moving_average, axis=1, args=(data,))\n",
    "\n",
    "data.head()"
   ]
  },
  {
   "cell_type": "code",
   "execution_count": null,
   "metadata": {
    "colab": {
     "base_uri": "https://localhost:8080/",
     "height": 300
    },
    "id": "3xjprQPVOv-r",
    "outputId": "58c71c48-b3ed-4135-a5f9-e43d279b6746"
   },
   "outputs": [],
   "source": [
    "data.describe()"
   ]
  },
  {
   "cell_type": "code",
   "execution_count": null,
   "metadata": {
    "colab": {
     "base_uri": "https://localhost:8080/",
     "height": 507
    },
    "id": "ZCUxd0ImOv-r",
    "outputId": "1f3c7712-0791-4f5f-89f1-73379bd50101"
   },
   "outputs": [],
   "source": [
    "import matplotlib.pyplot as plt\n",
    "\n",
    "plt.figure(figsize=(8, 5))\n",
    "plt.plot(data['period'][:50] + data['count_of_the_day'][:50] , data['target'][:50] , marker='o', linestyle='-', color='blue')\n",
    "plt.title('Target vs Period/Count_of_the_day')\n",
    "plt.xlabel('Period/Count_of_the_day')\n",
    "plt.ylabel('Target')\n",
    "plt.grid(True)\n",
    "plt.xticks(data['period'][:50]  + data['count_of_the_day'][:50] )\n",
    "plt.tight_layout()\n",
    "\n",
    "plt.show()"
   ]
  },
  {
   "cell_type": "code",
   "execution_count": null,
   "metadata": {
    "id": "NdaAZThVOv-r"
   },
   "outputs": [],
   "source": [
    "import tensorflow as tf\n",
    "from tensorflow.keras.models import Model\n",
    "from tensorflow.keras.layers import Input, Masking, Bidirectional, LSTM, Dense, concatenate, Flatten, Dropout, BatchNormalization\n",
    "from tensorflow.keras.callbacks import EarlyStopping\n",
    "\n",
    "from keras.utils import to_categorical\n",
    "from tensorflow.keras.preprocessing.sequence import pad_sequences\n",
    "\n",
    "import numpy as np"
   ]
  },
  {
   "cell_type": "code",
   "execution_count": null,
   "metadata": {
    "id": "pwmkkGFFOv-r"
   },
   "outputs": [],
   "source": [
    "data['previous_50_numbers'] = data['previous_50_numbers'].apply(lambda x: np.array(x))\n",
    "data['previous_50_colours'] = data['previous_50_colours'].apply(lambda x: np.array(x))"
   ]
  },
  {
   "cell_type": "code",
   "source": [
    "data['moving_average'][np.isnan(data['moving_average'])] = -1"
   ],
   "metadata": {
    "colab": {
     "base_uri": "https://localhost:8080/"
    },
    "id": "8pcKHJkkUZ49",
    "outputId": "2f4841f3-2897-4ffc-a4f9-da03c510f028"
   },
   "execution_count": null,
   "outputs": []
  },
  {
   "cell_type": "code",
   "execution_count": null,
   "metadata": {
    "id": "v79QHxfdOv-s"
   },
   "outputs": [],
   "source": [
    "X_numbers = pad_sequences(data['previous_50_numbers'], maxlen=50, padding='pre', value=-1)\n",
    "X_colours = pad_sequences(data['previous_50_colours'], maxlen=50, padding='pre', value=-1)\n",
    "\n",
    "# X_period_count = data[['period', 'count_of_the_day']].values\n",
    "X_period_count = data[['count_of_the_day']].values\n",
    "\n",
    "X_moving_average = data[['moving_average']].values"
   ]
  },
  {
   "cell_type": "code",
   "execution_count": null,
   "metadata": {
    "id": "TNqPLCU9Ov-s"
   },
   "outputs": [],
   "source": [
    "# y_number = data['target_number']\n",
    "# y_colour = data['target_colour']\n",
    "\n",
    "# num_classes_number = len(np.unique(y_number))\n",
    "# num_classes_colour = len(np.unique(y_colour))\n",
    "\n",
    "# y_encoded_number = to_categorical(y_number, num_classes=num_classes_number, dtype=\"int32\")\n",
    "# y_encoded_colour = to_categorical(y_colour, num_classes=num_classes_colour, dtype=\"int32\")"
   ]
  },
  {
   "cell_type": "code",
   "execution_count": null,
   "metadata": {
    "id": "_yTeQnS1Ov-s"
   },
   "outputs": [],
   "source": [
    "y = to_categorical(data['target'], num_classes=20, dtype=\"int32\")\n"
   ]
  },
  {
   "cell_type": "code",
   "execution_count": null,
   "metadata": {
    "colab": {
     "base_uri": "https://localhost:8080/"
    },
    "id": "QlvM0bAmOv-s",
    "outputId": "c2740b80-6b69-4f8e-fa07-946523853d97"
   },
   "outputs": [],
   "source": [
    "print(X_numbers[:2], X_colours[:2], X_period_count[:2], y[:2])"
   ]
  },
  {
   "cell_type": "code",
   "execution_count": null,
   "metadata": {
    "id": "yvxUhrixOv-s"
   },
   "outputs": [],
   "source": [
    "# RNN model\n",
    "\n",
    "# input layers\n",
    "input_numbers = Input(shape=(50, 1))\n",
    "input_colours = Input(shape=(50, 1))\n",
    "input_period_count = Input(shape=(1,))\n",
    "input_moving_average = Input(shape=(1,))\n",
    "\n",
    "# Apply Masking layers\n",
    "masked_numbers = Masking(mask_value=-1)(input_numbers)\n",
    "masked_colours = Masking(mask_value=-1)(input_colours)\n",
    "masked_moving_average = Masking(mask_value=-1)(input_moving_average)\n",
    "\n",
    "# LSTM layers\n",
    "lstm_numbers = Bidirectional(LSTM(128, return_sequences=True))(masked_numbers)\n",
    "lstm_colours = Bidirectional(LSTM(128, return_sequences=True))(masked_colours)\n",
    "\n",
    "# Flatten LSTM outputs\n",
    "lstm_numbers_flat = Flatten()(lstm_numbers)\n",
    "lstm_colours_flat = Flatten()(lstm_colours)\n",
    "\n",
    "# Concatenate all processed inputs\n",
    "concatenated_layers = concatenate([lstm_numbers_flat, lstm_colours_flat, input_period_count, masked_moving_average])\n",
    "\n",
    "# Dense layers\n",
    "dense = Dense(64, activation='relu')(concatenated_layers)\n",
    "dropout = Dropout(0.5)(dense)\n",
    "dense = Dense(64, activation='elu')(dropout)\n",
    "batch = BatchNormalization()(dense)\n",
    "dense = Dense(64, activation='relu')(batch)\n",
    "output = Dense(20, activation='softmax')(dense)\n",
    "\n",
    "# Create the model\n",
    "model = Model(inputs=[input_numbers, input_colours, input_period_count, input_moving_average], outputs=output)\n",
    "\n",
    "# Compile the model\n",
    "model.compile(optimizer='adam', loss='categorical_crossentropy', metrics=['accuracy'])\n",
    "\n",
    "# Define early stopping\n",
    "early_stopping = EarlyStopping(monitor='val_loss', patience=5, restore_best_weights=True)"
   ]
  },
  {
   "cell_type": "code",
   "execution_count": null,
   "metadata": {
    "colab": {
     "base_uri": "https://localhost:8080/",
     "height": 373
    },
    "id": "uz2cz-n9Ov-s",
    "outputId": "045d6c5e-f1d5-41d3-e82e-87bd01a3680f"
   },
   "outputs": [],
   "source": [
    "history = model.fit([X_numbers, X_colours, X_period_count, X_moving_average],  y, epochs=100, batch_size=32, validation_split=0.2, callbacks=[early_stopping]) # [y_encoded_number, y_encoded_colour]"
   ]
  },
  {
   "cell_type": "code",
   "execution_count": null,
   "metadata": {
    "id": "3uWb6cU5Ov-s"
   },
   "outputs": [],
   "source": [
    "model.summary()\n",
    "model.save('rnn_model.h5')"
   ]
  },
  {
   "cell_type": "code",
   "execution_count": null,
   "metadata": {
    "id": "-CDLVp7OOv-s"
   },
   "outputs": [],
   "source": [
    "def get_previous_records(period, count_of_the_day, df):\n",
    "    same_day_records = df[(df['period'] == period) & (df['count_of_the_day'] < count_of_the_day)]\n",
    "    if same_day_records.empty:\n",
    "        return [], []\n",
    "    lower_limit = max(count_of_the_day - 50, same_day_records['count_of_the_day'].min())\n",
    "    prev_records = same_day_records[same_day_records['count_of_the_day'].between(lower_limit, count_of_the_day - 1)]\n",
    "    return prev_records['target_number'].values, prev_records['target_colour'].values\n",
    "\n",
    "def predictor(model, value):\n",
    "    period = int(value[:8])\n",
    "    count_of_the_day = int(value[8:])\n",
    "\n",
    "    # period_count = np.array([period, count_of_the_day]).reshape(1, -1)\n",
    "    period_count = np.array([count_of_the_day]).reshape(1, -1)\n",
    "\n",
    "    previous_numbers, previous_colours = get_previous_records(period, count_of_the_day, og_data)\n",
    "\n",
    "    previous_numbers = pad_sequences([previous_numbers], maxlen=50, padding='pre', value=-1)\n",
    "    previous_colours = pad_sequences([previous_colours], maxlen=50, padding='pre', value=-1)\n",
    "\n",
    "    print(period_count, previous_numbers, previous_colours)\n",
    "\n",
    "    predicted_val = model.predict([previous_numbers, previous_colours, period_count])\n",
    "\n",
    "    return get_number_colour(np.argmax(predicted_val))\n",
    "\n",
    "predictor(model, '20231127145')"
   ]
  }
 ],
 "metadata": {
  "kernelspec": {
   "name": "python3",
   "language": "python",
   "display_name": "Python 3 (ipykernel)"
  },
  "language_info": {
   "codemirror_mode": {
    "name": "ipython",
    "version": 3
   },
   "file_extension": ".py",
   "mimetype": "text/x-python",
   "name": "python",
   "nbconvert_exporter": "python",
   "pygments_lexer": "ipython3",
   "version": "3.11.0"
  },
  "colab": {
   "provenance": [],
   "gpuType": "T4"
  },
  "accelerator": "GPU"
 },
 "nbformat": 4,
 "nbformat_minor": 0
}
