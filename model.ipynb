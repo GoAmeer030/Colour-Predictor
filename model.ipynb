{
 "cells": [
  {
   "cell_type": "code",
   "execution_count": null,
   "metadata": {},
   "outputs": [],
   "source": [
    "import pandas as pd"
   ]
  },
  {
   "cell_type": "code",
   "execution_count": null,
   "metadata": {},
   "outputs": [],
   "source": [
    "data = pd.read_csv('data.csv')\n",
    "\n",
    "data.sort_values(by=['period'], inplace=True, ascending=False)\n",
    "\n",
    "data.head()"
   ]
  },
  {
   "cell_type": "code",
   "execution_count": null,
   "metadata": {},
   "outputs": [],
   "source": [
    "data.drop(\"price\", axis=1, inplace=True)\n",
    "\n",
    "data['count_of_the_day'] = data['period'].apply(lambda x: int(str(x)[8:]))\n",
    "\n",
    "data['period'] = data['period'].apply(lambda x: int(str(x)[0:8]))\n",
    "\n",
    "data.head()"
   ]
  },
  {
   "cell_type": "code",
   "execution_count": null,
   "metadata": {},
   "outputs": [],
   "source": [
    "data['target_colour'] = data['target_colour'] - 1\n",
    "\n",
    "data.head()\n",
    "og_data = data.copy()\n"
   ]
  },
  {
   "cell_type": "code",
   "execution_count": null,
   "metadata": {},
   "outputs": [],
   "source": [
    "def previous_counts(row, df):\n",
    "    period = row['period']\n",
    "    count_of_the_day = row['count_of_the_day']\n",
    "    same_day_records = df[(df['period'] == period) & (df['count_of_the_day'] < count_of_the_day)]\n",
    "    if same_day_records.empty:\n",
    "        return pd.Series({'previous_25_numbers': [], 'previous_25_colours': []})\n",
    "    lower_limit = max(count_of_the_day - 25, same_day_records['count_of_the_day'].min())\n",
    "    prev_records = same_day_records[same_day_records['count_of_the_day'].between(lower_limit, count_of_the_day - 1)]\n",
    "    return pd.Series({'previous_25_numbers': prev_records['target_number'].values, 'previous_25_colours': prev_records['target_colour'].values})\n",
    "\n",
    "data[['previous_25_numbers', 'previous_25_colours']] = data.apply(previous_counts, axis=1, args=(data,))\n",
    "    \n",
    "data.head()"
   ]
  },
  {
   "cell_type": "code",
   "execution_count": null,
   "metadata": {},
   "outputs": [],
   "source": [
    "data.describe()"
   ]
  },
  {
   "cell_type": "code",
   "execution_count": null,
   "metadata": {},
   "outputs": [],
   "source": [
    "import tensorflow as tf\n",
    "from tensorflow.keras.models import Model\n",
    "from tensorflow.keras.layers import Input, Masking, Bidirectional, LSTM, Dense, concatenate, Flatten, Dropout, BatchNormalization\n",
    "from tensorflow.keras.callbacks import EarlyStopping\n",
    "\n",
    "from tensorflow.keras.preprocessing.sequence import pad_sequences\n",
    "\n",
    "import numpy as np"
   ]
  },
  {
   "cell_type": "code",
   "execution_count": null,
   "metadata": {},
   "outputs": [],
   "source": [
    "data['previous_25_numbers'] = data['previous_25_numbers'].apply(lambda x: np.array(x))\n",
    "data['previous_25_colours'] = data['previous_25_colours'].apply(lambda x: np.array(x))"
   ]
  },
  {
   "cell_type": "code",
   "execution_count": null,
   "metadata": {},
   "outputs": [],
   "source": [
    "X_numbers = pad_sequences(data['previous_25_numbers'], maxlen=25, padding='pre', value=-1)\n",
    "X_colours = pad_sequences(data['previous_25_colours'], maxlen=25, padding='pre', value=-1)\n",
    "\n",
    "# X_period_count = data[['period', 'count_of_the_day']].values\n",
    "X_period_count = data[['count_of_the_day']].values"
   ]
  },
  {
   "cell_type": "code",
   "execution_count": null,
   "metadata": {},
   "outputs": [],
   "source": [
    "y_number = data['target_number']\n",
    "y_colour = data['target_colour']\n",
    "\n",
    "num_classes_number = len(np.unique(y_number))\n",
    "num_classes_colour = len(np.unique(y_colour))\n",
    "\n",
    "y_encoded_number = to_categorical(y_number, num_classes=num_classes_number, dtype=\"int32\")\n",
    "y_encoded_colour = to_categorical(y_colour, num_classes=num_classes_colour, dtype=\"int32\")"
   ]
  },
  {
   "cell_type": "code",
   "execution_count": null,
   "metadata": {},
   "outputs": [],
   "source": [
    "input_numbers = Input(shape=(25,1))\n",
    "input_colours = Input(shape=(25,1))\n",
    "input_period_count = Input(shape=(1,))\n",
    "\n",
    "masked_numbers = Masking(mask_value=-1)(input_numbers)\n",
    "masked_colours = Masking(mask_value=-1)(input_colours)\n",
    "\n",
    "lstm_numbers = Bidirectional(LSTM(128, return_sequences=True))(masked_numbers)\n",
    "lstm_colours = Bidirectional(LSTM(128, return_sequences=True))(masked_colours)\n",
    "\n",
    "lstm_numbers_flat = Flatten()(lstm_numbers)\n",
    "lstm_colours_flat = Flatten()(lstm_colours)\n",
    "\n",
    "concatenated_layers = concatenate([lstm_numbers_flat, lstm_colours_flat, input_period_count])\n",
    "dense = Dense(64, activation='relu')(concatenated_layers)\n",
    "dropout = Dropout(0.5)(dense)\n",
    "dense = Dense(64, activation='elu')(dropout)\n",
    "batch = BatchNormalization()(dense)\n",
    "dense = Dense(64, activation='relu')(batch)\n",
    "\n",
    "output_number = (Dense(10, activation='softmax'))(batch)\n",
    "output_colour = (Dense(2, activation='softmax'))(batch)\n",
    "\n",
    "model = Model(inputs=[input_numbers, input_colours, input_period_count], outputs=[output_number, output_colour])\n",
    "\n",
    "early_stopping = EarlyStopping(monitor='val_loss', patience=5, restore_best_weights=True)\n",
    "model.compile(optimizer='adam', loss='categorical_crossentropy', metrics=['accuracy'])"
   ]
  },
  {
   "cell_type": "code",
   "execution_count": null,
   "metadata": {},
   "outputs": [],
   "source": [
    "history = model.fit([X_numbers, X_colours, X_period_count], [y_encoded_number, y_encoded_colour], epochs=100, batch_size=32, validation_split=0.2, callbacks=[early_stopping])"
   ]
  },
  {
   "cell_type": "code",
   "execution_count": null,
   "metadata": {},
   "outputs": [],
   "source": [
    "model.summary()\n",
    "model.save('model.h5')"
   ]
  },
  {
   "cell_type": "code",
   "execution_count": null,
   "metadata": {},
   "outputs": [],
   "source": [
    "def get_previous_records(period, count_of_the_day, df):\n",
    "    same_day_records = df[(df['period'] == period) & (df['count_of_the_day'] < count_of_the_day)]\n",
    "    if same_day_records.empty:\n",
    "        return [], []\n",
    "    lower_limit = max(count_of_the_day - 25, same_day_records['count_of_the_day'].min())\n",
    "    prev_records = same_day_records[same_day_records['count_of_the_day'].between(lower_limit, count_of_the_day - 1)]\n",
    "    return prev_records['target_number'].values, prev_records['target_colour'].values\n",
    "\n",
    "def predictor(model, value):\n",
    "    period = int(value[:8])\n",
    "    count_of_the_day = int(value[8:])\n",
    "    \n",
    "    # period_count = np.array([period, count_of_the_day]).reshape(1, -1)\n",
    "    period_count = np.array([count_of_the_day]).reshape(1, -1)\n",
    "    \n",
    "    previous_numbers, previous_colours = get_previous_records(period, count_of_the_day, og_data)\n",
    "    \n",
    "    previous_numbers = pad_sequences([previous_numbers], maxlen=25, padding='pre', value=-1)\n",
    "    previous_colours = pad_sequences([previous_colours], maxlen=25, padding='pre', value=-1)\n",
    "    \n",
    "    print(period_count, previous_numbers, previous_colours)\n",
    "    \n",
    "    predicted_val = model.predict([previous_numbers, previous_colours, period_count])\n",
    "    \n",
    "    return np.argmax(predicted_val[0]), np.argmax(predicted_val[1])\n",
    "\n",
    "predictor(model, '20231116387')"
   ]
  }
 ],
 "metadata": {
  "kernelspec": {
   "display_name": "venv",
   "language": "python",
   "name": "python3"
  },
  "language_info": {
   "codemirror_mode": {
    "name": "ipython",
    "version": 3
   },
   "file_extension": ".py",
   "mimetype": "text/x-python",
   "name": "python",
   "nbconvert_exporter": "python",
   "pygments_lexer": "ipython3",
   "version": "3.11.0"
  }
 },
 "nbformat": 4,
 "nbformat_minor": 2
}
